{
  "nbformat": 4,
  "nbformat_minor": 0,
  "metadata": {
    "colab": {
      "name": "Final of Final AES Project.ipynb",
      "provenance": [],
      "collapsed_sections": []
    },
    "kernelspec": {
      "name": "python3",
      "display_name": "Python 3"
    },
    "language_info": {
      "name": "python"
    }
  },
  "cells": [
    {
      "cell_type": "markdown",
      "source": [
        "# Support Functions"
      ],
      "metadata": {
        "id": "J0d2e78MgkG5"
      }
    },
    {
      "cell_type": "markdown",
      "metadata": {
        "id": "LiOsV7ITcI0K"
      },
      "source": [
        "## String to List"
      ]
    },
    {
      "cell_type": "code",
      "metadata": {
        "id": "kCh0F_GJbuhh"
      },
      "source": [
        "def stringToList(mess):\n",
        "  input = []\n",
        "  for i in range(4):\n",
        "    start = int(i*len(mess)/4)\n",
        "    end = int((i+1)*len(mess)/4)\n",
        "    input.append(mess[start:end])\n",
        "  return input"
      ],
      "execution_count": 1,
      "outputs": []
    },
    {
      "cell_type": "markdown",
      "source": [
        "## Convert Stream to Matrix and visa versa"
      ],
      "metadata": {
        "id": "x8aGX_v-aY63"
      }
    },
    {
      "cell_type": "code",
      "source": [
        "def TransformData(mess):\n",
        "  res = []\n",
        "  for i in range(len(mess)):\n",
        "    temp_res = []\n",
        "    for j in range(len(mess[0])):\n",
        "      temp_res.append(mess[j][i])\n",
        "    res.append(temp_res)\n",
        "  return res"
      ],
      "metadata": {
        "id": "gmMbOZO0aUTz"
      },
      "execution_count": 2,
      "outputs": []
    },
    {
      "cell_type": "markdown",
      "source": [
        "## Print Out Message"
      ],
      "metadata": {
        "id": "hkcW-8rvrtg-"
      }
    },
    {
      "cell_type": "code",
      "source": [
        "def printMessage(val):\n",
        "  str = \"\"\n",
        "  for i in val:\n",
        "    for j in i:\n",
        "      str+=j+\" \"\n",
        "  return str"
      ],
      "metadata": {
        "id": "oFAV20Oarsps"
      },
      "execution_count": 3,
      "outputs": []
    },
    {
      "cell_type": "markdown",
      "metadata": {
        "id": "MMy_AqzXwypQ"
      },
      "source": [
        "## RoundKey Addition(ARK)"
      ]
    },
    {
      "cell_type": "code",
      "metadata": {
        "id": "CMuJNnvAZ1X6"
      },
      "source": [
        "def RoundKeyAddition(input,key):\n",
        "  ARK = [[]for i in range(4)]\n",
        "  for i in range(4):\n",
        "    for j in range(4):\n",
        "      ARK[i].append(format((int(input[i][j],16) ^ int(key[i][j],16)),'#04x')[2:])\n",
        "  return ARK"
      ],
      "execution_count": 4,
      "outputs": []
    },
    {
      "cell_type": "markdown",
      "metadata": {
        "id": "Exg8vSJPcTfH"
      },
      "source": [
        "## S-Box"
      ]
    },
    {
      "cell_type": "code",
      "metadata": {
        "id": "0RrVeQrmb3i5"
      },
      "source": [
        "s_box = ['63\t7c\t77\t7b\tf2\t6b\t6f\tc5\t30\t01\t67\t2b\tfe\td7\tab\t76'.split(\"\\t\"),'ca\t82\tc9\t7d\tfa\t59\t47\tf0\tad\td4\ta2\taf\t9c\ta4\t72\tc0'.split(\"\\t\"),'b7\tfd\t93\t26\t36\t3f\tf7\tcc\t34\ta5\te5\tf1\t71\td8\t31\t15'.split(\"\\t\"),'04\tc7\t23\tc3\t18\t96\t05\t9a\t07\t12\t80\te2\teb\t27\tb2\t75'.split(\"\\t\"),'09\t83\t2c\t1a\t1b\t6e\t5a\ta0\t52\t3b\td6\tb3\t29\te3\t2f\t84'.split(\"\\t\"),'53\td1\t00\ted\t20\tfc\tb1\t5b\t6a\tcb\tbe\t39\t4a\t4c\t58\tcf'.split(\"\\t\"),'d0\tef\taa\tfb\t43\t4d\t33\t85\t45\tf9\t02\t7f\t50\t3c\t9f\ta8'.split(\"\\t\"),'51\ta3\t40\t8f\t92\t9d\t38\tf5\tbc\tb6\tda\t21\t10\tff\tf3\td2'.split(\"\\t\"),'cd\t0c\t13\tec\t5f\t97\t44\t17\tc4\ta7\t7e\t3d\t64\t5d\t19\t73'.split(\"\\t\"),'60\t81\t4f\tdc\t22\t2a\t90\t88\t46\tee\tb8\t14\tde\t5e\t0b\tdb'.split(\"\\t\"),'e0\t32\t3a\t0a\t49\t06\t24\t5c\tc2\td3\tac\t62\t91\t95\te4\t79'.split(\"\\t\"),'e7\tc8\t37\t6d\t8d\td5\t4e\ta9\t6c\t56\tf4\tea\t65\t7a\tae\t08'.split(\"\\t\"),'ba\t78\t25\t2e\t1c\ta6\tb4\tc6\te8\tdd\t74\t1f\t4b\tbd\t8b\t8a'.split(\"\\t\"),'70\t3e\tb5\t66\t48\t03\tf6\t0e\t61\t35\t57\tb9\t86\tc1\t1d\t9e'.split(\"\\t\"),'e1\tf8\t98\t11\t69\td9\t8e\t94\t9b\t1e\t87\te9\tce\t55\t28\tdf'.split(\"\\t\"),'8c\ta1\t89\t0d\tbf\te6\t42\t68\t41\t99\t2d\t0f\tb0\t54\tbb\t16'.split(\"\\t\")]\n",
        "s_box[3],s_box[5] = s_box[5], s_box[3]"
      ],
      "execution_count": 5,
      "outputs": []
    },
    {
      "cell_type": "markdown",
      "metadata": {
        "id": "2biKtR0ob9tj"
      },
      "source": [
        "## ByteSub Transformation(BS)"
      ]
    },
    {
      "cell_type": "code",
      "metadata": {
        "id": "uvYdZGRDmcHi"
      },
      "source": [
        "def ByteSub(input):\n",
        "  substitue_list = [[] for i in range(4)]\n",
        "  for i,val in enumerate(input):\n",
        "    for j in val:\n",
        "      substitue_list[i].append(s_box[int(j[0],16)][int(j[1],16)])\n",
        "  return substitue_list"
      ],
      "execution_count": 6,
      "outputs": []
    },
    {
      "cell_type": "markdown",
      "metadata": {
        "id": "q7pcXcurcXgH"
      },
      "source": [
        "## ShiftRow Transformation(SR)"
      ]
    },
    {
      "cell_type": "code",
      "metadata": {
        "id": "-GRbruisbtaZ"
      },
      "source": [
        "def ShiftRow(BS):\n",
        "  for i in range(4):\n",
        "    BS[i] = BS[i][i:]+BS[i][:i]\n",
        "  return BS"
      ],
      "execution_count": 7,
      "outputs": []
    },
    {
      "cell_type": "markdown",
      "metadata": {
        "id": "HOCeS0NG2fwM"
      },
      "source": [
        "## Mix Column(MC)"
      ]
    },
    {
      "cell_type": "code",
      "metadata": {
        "id": "t4TLdCJN2dC9"
      },
      "source": [
        "def galoisMultiplication(b, a):\n",
        "    if b == 1:\n",
        "        return a\n",
        "    tmp = (a << 1) & 255\n",
        "    if b == 2:\n",
        "        return tmp if a < 128 else tmp ^ 27\n",
        "    if b == 3:\n",
        "        return galoisMultiplication(2, a) ^ a\n",
        "\n",
        "    \n",
        "def MixColumns(SR):\n",
        "  M = [['02','03','01','01'],['01','02','03','01'],['01','01','02','03'],['03','01','01','02']]\n",
        "  MC = [[] for i in range(4)]\n",
        "  for i in range(4):    \n",
        "    for j in range(4):  \n",
        "      temp_val = 0x00\n",
        "      for k in range(4):\n",
        "        temp_val = temp_val ^ galoisMultiplication(int(M[i][k],16),int(SR[k][j],16))\n",
        "      MC[i].append(format(temp_val,'#04x')[2:])\n",
        "  return MC"
      ],
      "execution_count": 8,
      "outputs": []
    },
    {
      "cell_type": "markdown",
      "metadata": {
        "id": "AKmg_ZfDdbLS"
      },
      "source": [
        "## Key Schedule(KS)"
      ]
    },
    {
      "cell_type": "code",
      "metadata": {
        "id": "jXtXlOBcdXSz"
      },
      "source": [
        "def keygenerator(old_key,index):\n",
        "  def T_of_W_KS(val,idx): \n",
        "    val = val[1:] + val[:1]\n",
        "    ri = ['00','01','02','04','08','10','20','40','80','1b','36']\n",
        "    sub_list = []\n",
        "    for i in val:\n",
        "      sub_list.append(s_box[int(i[0],16)][int(i[1],16)])\n",
        "    temp = int(sub_list[0],16) ^ int(ri[idx],16)\n",
        "    sub_list[0] = format(temp,'#04x')[2:]\n",
        "    return sub_list\n",
        "  def Xor_keys(list1,list2): \n",
        "    res = []\n",
        "    for key_idx in range(4):\n",
        "      res.append(format(int(list1[key_idx],16) ^ int(list2[key_idx],16),'#04x')[2:])\n",
        "    return res\n",
        "\n",
        "  new_key = []\n",
        "  new_key.append(Xor_keys(old_key[0],T_of_W_KS(old_key[3],index)))\n",
        "  new_key.append(Xor_keys(old_key[1],new_key[0]))\n",
        "  new_key.append(Xor_keys(old_key[2],new_key[1]))\n",
        "  new_key.append(Xor_keys(old_key[3],new_key[2]))\n",
        "\n",
        "  return new_key"
      ],
      "execution_count": 9,
      "outputs": []
    },
    {
      "cell_type": "markdown",
      "source": [
        "# Main Logic"
      ],
      "metadata": {
        "id": "29io1lfxgXZP"
      }
    },
    {
      "cell_type": "code",
      "source": [
        "Number_of_rounds = 11\n",
        "result = []\n",
        "mess=\"00 00 00 00 00 00 00 00 00 00 00 00 00 00 ab d0\".split(\" \")\n",
        "key=\"1a 0c 24 f2 87 54 95 bc b7 08 0e 43 92 0f 56 80\".split(\" \")\n",
        "mess = stringToList(mess)\n",
        "key = stringToList(key)\n",
        "for i in range(Number_of_rounds):\n",
        "  if i == 0:\n",
        "    print(\"_____________________________Round \",i,\"_____________________________\\n Input Msg:  \",printMessage(mess),\"\\n       Key:  \",printMessage(key))\n",
        "    mess = TransformData(mess)\n",
        "    key = TransformData(key)\n",
        "    mess = RoundKeyAddition(mess,key)\n",
        "    mess = TransformData(mess)\n",
        "    key = TransformData(key)\n",
        "  elif i == 10:\n",
        "    key = keygenerator(key[:],i)\n",
        "    print(\"_____________________________Round \",i,\"_____________________________\\n       Key:  \",printMessage(key))\n",
        "    mess = TransformData(mess)\n",
        "    key = TransformData(key)\n",
        "    mess = RoundKeyAddition(ShiftRow(ByteSub(mess)),key)\n",
        "    mess = TransformData(mess)\n",
        "    key = TransformData(key)\n",
        "  else:\n",
        "    key = keygenerator(key[:],i)\n",
        "    print(\"_____________________________Round \",i,\"_____________________________\\n       Key:  \",printMessage(key))\n",
        "    mess = TransformData(mess)\n",
        "    key = TransformData(key)\n",
        "    mess = RoundKeyAddition(MixColumns(ShiftRow(ByteSub(mess))),key)\n",
        "    mess = TransformData(mess)\n",
        "    key = TransformData(key)\n",
        "  print(\"\\nOutput Msg:  \",printMessage(mess))"
      ],
      "metadata": {
        "colab": {
          "base_uri": "https://localhost:8080/"
        },
        "id": "9QJ2AOuf8tNC",
        "outputId": "30b52b90-25a2-4ad0-daef-42e9507dcc62"
      },
      "execution_count": 10,
      "outputs": [
        {
          "output_type": "stream",
          "name": "stdout",
          "text": [
            "_____________________________Round  0 _____________________________\n",
            " Input Msg:   00 00 00 00 00 00 00 00 00 00 00 00 00 00 ab d0  \n",
            "       Key:   1a 0c 24 f2 87 54 95 bc b7 08 0e 43 92 0f 56 80 \n",
            "\n",
            "Output Msg:   1a 0c 24 f2 87 54 95 bc b7 08 0e 43 92 0f fd 50 \n",
            "_____________________________Round  1 _____________________________\n",
            "       Key:   6d 09 e9 bd ea 5d 7c 01 5d 55 72 42 cf 5a 24 c2 \n",
            "\n",
            "Output Msg:   b5 79 12 fb 49 5f 73 55 dd 2f 6e 28 78 96 ef f3 \n",
            "_____________________________Round  2 _____________________________\n",
            "       Key:   ef 3f cc 37 05 62 b0 36 58 37 c2 74 97 6d e6 b6 \n",
            "\n",
            "Output Msg:   53 b7 5e a3 9c 06 2a af 35 1b bb 42 8e 18 b5 38 \n",
            "_____________________________Round  3 _____________________________\n",
            "       Key:   d7 b1 82 bf d2 d3 32 89 8a e4 f0 fd 1d 89 16 4b \n",
            "\n",
            "Output Msg:   7b e3 5f b0 40 26 ec 9e 4e ed 55 0f 06 c1 03 74 \n",
            "_____________________________Round  4 _____________________________\n",
            "       Key:   78 f6 31 1b aa 25 03 92 20 c1 f3 6f 3d 48 e5 24 \n",
            "\n",
            "Output Msg:   3c 11 7d 26 db ec 9b 72 88 8a 53 05 68 3a 86 a6 \n",
            "_____________________________Round  5 _____________________________\n",
            "       Key:   3a 2f 07 57 90 0a 04 c5 b0 cb f7 aa 8d 83 12 8e \n",
            "\n",
            "Output Msg:   00 98 72 cc c8 74 49 da 45 32 a8 3c e5 8e 40 01 \n",
            "_____________________________Round  6 _____________________________\n",
            "       Key:   f6 e6 1e 0a 66 ec 1a cf d6 27 ed 65 5b a4 ff eb \n",
            "\n",
            "Output Msg:   23 9b f4 07 ef 54 3d 73 36 ec e3 20 49 f6 c8 72 \n",
            "_____________________________Round  7 _____________________________\n",
            "       Key:   ff f0 f7 e8 99 1c ed 27 4f 3b 00 42 14 9f ff a9 \n",
            "\n",
            "Output Msg:   ca 95 2b 0b 58 a2 63 ea c0 5b 1c 72 a5 ef 8a c9 \n",
            "_____________________________Round  8 _____________________________\n",
            "       Key:   a4 e6 24 12 3d fa c9 35 72 c1 c9 77 66 5e 36 de \n",
            "\n",
            "Output Msg:   43 84 35 89 5b 8b ad f6 11 51 c7 99 af 5a 37 85 \n",
            "_____________________________Round  9 _____________________________\n",
            "       Key:   0d 57 39 21 30 ad f0 14 42 6c 39 63 24 32 0f bd \n",
            "\n",
            "Output Msg:   2f f1 2b c1 41 90 91 e0 78 a8 1e 06 4c bf 31 3b \n",
            "_____________________________Round  10 _____________________________\n",
            "       Key:   3b 21 43 17 0b 8c b3 03 49 e0 8a 60 6d d2 85 dd \n",
            "\n",
            "Output Msg:   2e 41 31 2e 88 4e 62 7b f5 e8 7b 81 44 73 04 b2 \n"
          ]
        }
      ]
    },
    {
      "cell_type": "code",
      "source": [
        ""
      ],
      "metadata": {
        "id": "B5ddGDgCuFEh"
      },
      "execution_count": 10,
      "outputs": []
    }
  ]
}